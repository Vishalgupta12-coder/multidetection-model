{
 "cells": [
  {
   "cell_type": "code",
   "execution_count": null,
   "id": "72bc8251",
   "metadata": {},
   "outputs": [],
   "source": [
    "import cv2\n",
    "face_cascade = cv2.CascadeClassifier('haarcascade_frontalface_default.xml')\n",
    "eye_cascade = cv2.CascadeClassifier('haarcascade_eye.xml')\n",
    "body_cascade = cv2.CascadeClassifier('haarcascade_fullbody.xml')\n",
    "smile_cascade = cv2.CascadeClassifier('haarcascade_smile.xml')\n",
    "font = cv2.FONT_HERSHEY_SIMPLEX\n",
    "def face_detect(gray, frame):\n",
    "    faces = face_cascade.detectMultiScale(gray, 1.3, 5)\n",
    "    for (x, y, w, h) in faces:\n",
    "        cv2.rectangle(frame, (x, y), (x+w, y+h), (255, 0, 0), 2)\n",
    "        cv2.putText(frame,'face',(x,y),font,1,(0,0,255),2)\n",
    "    return frame\n",
    "def eye_detect(gray, frame):\n",
    "    eyes = eye_cascade.detectMultiScale(gray, 1.1, 3)\n",
    "    for (ex, ey, ew, eh) in eyes:\n",
    "        cv2.rectangle(frame, (ex, ey), (ex+ew, ey+eh), (0, 255, 0), 2)\n",
    "        cv2.putText(frame,'eye',(ex,ey),font,1,(0,0,255),2)\n",
    "    return frame\n",
    "def body_detect(gray, frame):\n",
    "    body = body_cascade.detectMultiScale(gray, 1.4, 4)\n",
    "    for (bx, by, bw, bh) in body:\n",
    "        cv2.rectangle(frame, (bx, by), (bx+bw, by+bh), (0, 255, 0), 2)\n",
    "        cv2.putText(frame,'body',(bx,by),font,1,(0,0,255),2)\n",
    "    return frame\n",
    "def smile_detect(gray, frame):\n",
    "    smile = smile_cascade.detectMultiScale(gray, 1.8, 5)\n",
    "    for (sx, sy, sw, sh) in smile:\n",
    "        cv2.rectangle(frame, (sx, sy), (sx+sw, sy+sh), (0, 255, 0), 2)\n",
    "        cv2.putText(frame,'smile',(sx,sy),font,1,(0,0,255),2)\n",
    "    return frame\n",
    "video_capture = cv2.VideoCapture(0)\n",
    "n=int(input(\"Enter your choice : \\n--> Press 1 if you want to detect FACE.\\n--> Press 2 if you want to detect EYES.\\n--> Press 3 if you want to detect FULL BODY.\\n--> Press 4 if you want to detect SMILE.\"))\n",
    "while True:\n",
    "    _, frame = video_capture.read()\n",
    "    gray = cv2.cvtColor(frame, cv2.COLOR_BGR2GRAY)\n",
    "    if n==1:\n",
    "        canvas = face_detect(gray, frame)\n",
    "        cv2.imshow('Video', canvas)\n",
    "    elif n==2:\n",
    "        canvas = eye_detect(gray, frame)\n",
    "        cv2.imshow('Video', canvas)\n",
    "    elif n==3:\n",
    "        canvas = body_detect(gray, frame)\n",
    "        cv2.imshow('Video', canvas)\n",
    "    elif n==4:\n",
    "        canvas = smile_detect(gray, frame)\n",
    "        cv2.imshow('Video', canvas)\n",
    "           \n",
    "    if cv2.waitKey(1) & 0xFF == ord('q'):\n",
    "        break\n",
    "video_capture.release()\n",
    "cv2.destroyAllWindows()"
   ]
  }
 ],
 "metadata": {
  "kernelspec": {
   "display_name": "Python 3 (ipykernel)",
   "language": "python",
   "name": "python3"
  },
  "language_info": {
   "codemirror_mode": {
    "name": "ipython",
    "version": 3
   },
   "file_extension": ".py",
   "mimetype": "text/x-python",
   "name": "python",
   "nbconvert_exporter": "python",
   "pygments_lexer": "ipython3",
   "version": "3.9.12"
  }
 },
 "nbformat": 4,
 "nbformat_minor": 5
}
